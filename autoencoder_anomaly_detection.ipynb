{
  "nbformat": 4,
  "nbformat_minor": 0,
  "metadata": {
    "colab": {
      "name": "autoencoder_anomaly_detection.ipynb",
      "provenance": [],
      "collapsed_sections": []
    },
    "kernelspec": {
      "name": "python3",
      "display_name": "Python 3"
    },
    "accelerator": "GPU"
  },
  "cells": [
    {
      "cell_type": "code",
      "metadata": {
        "colab": {
          "base_uri": "https://localhost:8080/"
        },
        "id": "0MsJsJDQRJLP",
        "outputId": "a97a29eb-f2df-49ef-f34b-3e80408c3c87"
      },
      "source": [
        "import numpy as np\n",
        "import pandas as pd\n",
        "import tensorflow as tf\n",
        "from tensorflow import keras\n",
        "from tensorflow.keras import layers\n",
        "from tensorflow.keras.models import Sequential\n",
        "from tensorflow.keras.optimizers import Adam\n",
        "from sklearn.metrics import accuracy_score, precision_score, recall_score\n",
        "from sklearn.model_selection import train_test_split\n",
        "from sklearn.preprocessing import MinMaxScaler\n",
        "import matplotlib.pyplot as plt\n",
        "from pylab import rcParams\n",
        "from platform import python_version\n",
        "\n",
        "print(python_version())\n",
        "print(tf.__version__)"
      ],
      "execution_count": 70,
      "outputs": [
        {
          "output_type": "stream",
          "name": "stdout",
          "text": [
            "3.7.12\n",
            "2.7.0\n"
          ]
        }
      ]
    },
    {
      "cell_type": "code",
      "source": [
        "rcParams['figure.figsize'] = (10, 6)"
      ],
      "metadata": {
        "id": "q6RtMmyn0u_1"
      },
      "execution_count": 71,
      "outputs": []
    },
    {
      "cell_type": "code",
      "metadata": {
        "colab": {
          "base_uri": "https://localhost:8080/",
          "height": 300
        },
        "id": "A76s6h3sT5KP",
        "outputId": "40f80315-1a11-4076-a3c1-ce2e867c16ca"
      },
      "source": [
        "df = pd.read_csv('http://storage.googleapis.com/download.tensorflow.org/data/ecg.csv', header=None)\n",
        "df_raw = df.values\n",
        "df.head()"
      ],
      "execution_count": 72,
      "outputs": [
        {
          "output_type": "execute_result",
          "data": {
            "text/html": [
              "\n",
              "  <div id=\"df-cdaacf9f-1463-406f-810a-e0efc4efc96d\">\n",
              "    <div class=\"colab-df-container\">\n",
              "      <div>\n",
              "<style scoped>\n",
              "    .dataframe tbody tr th:only-of-type {\n",
              "        vertical-align: middle;\n",
              "    }\n",
              "\n",
              "    .dataframe tbody tr th {\n",
              "        vertical-align: top;\n",
              "    }\n",
              "\n",
              "    .dataframe thead th {\n",
              "        text-align: right;\n",
              "    }\n",
              "</style>\n",
              "<table border=\"1\" class=\"dataframe\">\n",
              "  <thead>\n",
              "    <tr style=\"text-align: right;\">\n",
              "      <th></th>\n",
              "      <th>0</th>\n",
              "      <th>1</th>\n",
              "      <th>2</th>\n",
              "      <th>3</th>\n",
              "      <th>4</th>\n",
              "      <th>5</th>\n",
              "      <th>6</th>\n",
              "      <th>7</th>\n",
              "      <th>8</th>\n",
              "      <th>9</th>\n",
              "      <th>10</th>\n",
              "      <th>11</th>\n",
              "      <th>12</th>\n",
              "      <th>13</th>\n",
              "      <th>14</th>\n",
              "      <th>15</th>\n",
              "      <th>16</th>\n",
              "      <th>17</th>\n",
              "      <th>18</th>\n",
              "      <th>19</th>\n",
              "      <th>20</th>\n",
              "      <th>21</th>\n",
              "      <th>22</th>\n",
              "      <th>23</th>\n",
              "      <th>24</th>\n",
              "      <th>25</th>\n",
              "      <th>26</th>\n",
              "      <th>27</th>\n",
              "      <th>28</th>\n",
              "      <th>29</th>\n",
              "      <th>30</th>\n",
              "      <th>31</th>\n",
              "      <th>32</th>\n",
              "      <th>33</th>\n",
              "      <th>34</th>\n",
              "      <th>35</th>\n",
              "      <th>36</th>\n",
              "      <th>37</th>\n",
              "      <th>38</th>\n",
              "      <th>39</th>\n",
              "      <th>...</th>\n",
              "      <th>101</th>\n",
              "      <th>102</th>\n",
              "      <th>103</th>\n",
              "      <th>104</th>\n",
              "      <th>105</th>\n",
              "      <th>106</th>\n",
              "      <th>107</th>\n",
              "      <th>108</th>\n",
              "      <th>109</th>\n",
              "      <th>110</th>\n",
              "      <th>111</th>\n",
              "      <th>112</th>\n",
              "      <th>113</th>\n",
              "      <th>114</th>\n",
              "      <th>115</th>\n",
              "      <th>116</th>\n",
              "      <th>117</th>\n",
              "      <th>118</th>\n",
              "      <th>119</th>\n",
              "      <th>120</th>\n",
              "      <th>121</th>\n",
              "      <th>122</th>\n",
              "      <th>123</th>\n",
              "      <th>124</th>\n",
              "      <th>125</th>\n",
              "      <th>126</th>\n",
              "      <th>127</th>\n",
              "      <th>128</th>\n",
              "      <th>129</th>\n",
              "      <th>130</th>\n",
              "      <th>131</th>\n",
              "      <th>132</th>\n",
              "      <th>133</th>\n",
              "      <th>134</th>\n",
              "      <th>135</th>\n",
              "      <th>136</th>\n",
              "      <th>137</th>\n",
              "      <th>138</th>\n",
              "      <th>139</th>\n",
              "      <th>140</th>\n",
              "    </tr>\n",
              "  </thead>\n",
              "  <tbody>\n",
              "    <tr>\n",
              "      <th>0</th>\n",
              "      <td>-0.112522</td>\n",
              "      <td>-2.827204</td>\n",
              "      <td>-3.773897</td>\n",
              "      <td>-4.349751</td>\n",
              "      <td>-4.376041</td>\n",
              "      <td>-3.474986</td>\n",
              "      <td>-2.181408</td>\n",
              "      <td>-1.818287</td>\n",
              "      <td>-1.250522</td>\n",
              "      <td>-0.477492</td>\n",
              "      <td>-0.363808</td>\n",
              "      <td>-0.491957</td>\n",
              "      <td>-0.421855</td>\n",
              "      <td>-0.309201</td>\n",
              "      <td>-0.495939</td>\n",
              "      <td>-0.342119</td>\n",
              "      <td>-0.355336</td>\n",
              "      <td>-0.367913</td>\n",
              "      <td>-0.316503</td>\n",
              "      <td>-0.412374</td>\n",
              "      <td>-0.471672</td>\n",
              "      <td>-0.413458</td>\n",
              "      <td>-0.364617</td>\n",
              "      <td>-0.449298</td>\n",
              "      <td>-0.471419</td>\n",
              "      <td>-0.424777</td>\n",
              "      <td>-0.462517</td>\n",
              "      <td>-0.552472</td>\n",
              "      <td>-0.475375</td>\n",
              "      <td>-0.694200</td>\n",
              "      <td>-0.701868</td>\n",
              "      <td>-0.593812</td>\n",
              "      <td>-0.660684</td>\n",
              "      <td>-0.713831</td>\n",
              "      <td>-0.769807</td>\n",
              "      <td>-0.672282</td>\n",
              "      <td>-0.653676</td>\n",
              "      <td>-0.639406</td>\n",
              "      <td>-0.559302</td>\n",
              "      <td>-0.591670</td>\n",
              "      <td>...</td>\n",
              "      <td>1.258179</td>\n",
              "      <td>1.433789</td>\n",
              "      <td>1.700533</td>\n",
              "      <td>1.999043</td>\n",
              "      <td>2.125341</td>\n",
              "      <td>1.993291</td>\n",
              "      <td>1.932246</td>\n",
              "      <td>1.797437</td>\n",
              "      <td>1.522284</td>\n",
              "      <td>1.251168</td>\n",
              "      <td>0.998730</td>\n",
              "      <td>0.483722</td>\n",
              "      <td>0.023132</td>\n",
              "      <td>-0.194914</td>\n",
              "      <td>-0.220917</td>\n",
              "      <td>-0.243737</td>\n",
              "      <td>-0.254695</td>\n",
              "      <td>-0.291136</td>\n",
              "      <td>-0.256490</td>\n",
              "      <td>-0.227874</td>\n",
              "      <td>-0.322423</td>\n",
              "      <td>-0.289286</td>\n",
              "      <td>-0.318170</td>\n",
              "      <td>-0.363654</td>\n",
              "      <td>-0.393456</td>\n",
              "      <td>-0.266419</td>\n",
              "      <td>-0.256823</td>\n",
              "      <td>-0.288694</td>\n",
              "      <td>-0.162338</td>\n",
              "      <td>0.160348</td>\n",
              "      <td>0.792168</td>\n",
              "      <td>0.933541</td>\n",
              "      <td>0.796958</td>\n",
              "      <td>0.578621</td>\n",
              "      <td>0.257740</td>\n",
              "      <td>0.228077</td>\n",
              "      <td>0.123431</td>\n",
              "      <td>0.925286</td>\n",
              "      <td>0.193137</td>\n",
              "      <td>1.0</td>\n",
              "    </tr>\n",
              "    <tr>\n",
              "      <th>1</th>\n",
              "      <td>-1.100878</td>\n",
              "      <td>-3.996840</td>\n",
              "      <td>-4.285843</td>\n",
              "      <td>-4.506579</td>\n",
              "      <td>-4.022377</td>\n",
              "      <td>-3.234368</td>\n",
              "      <td>-1.566126</td>\n",
              "      <td>-0.992258</td>\n",
              "      <td>-0.754680</td>\n",
              "      <td>0.042321</td>\n",
              "      <td>0.148951</td>\n",
              "      <td>0.183527</td>\n",
              "      <td>0.294876</td>\n",
              "      <td>0.190233</td>\n",
              "      <td>0.235575</td>\n",
              "      <td>0.253487</td>\n",
              "      <td>0.221742</td>\n",
              "      <td>0.050233</td>\n",
              "      <td>0.178042</td>\n",
              "      <td>0.139563</td>\n",
              "      <td>0.046794</td>\n",
              "      <td>0.043007</td>\n",
              "      <td>0.106544</td>\n",
              "      <td>0.012654</td>\n",
              "      <td>0.003995</td>\n",
              "      <td>0.045724</td>\n",
              "      <td>-0.045999</td>\n",
              "      <td>-0.072667</td>\n",
              "      <td>-0.071078</td>\n",
              "      <td>-0.153866</td>\n",
              "      <td>-0.227254</td>\n",
              "      <td>-0.249270</td>\n",
              "      <td>-0.253489</td>\n",
              "      <td>-0.332835</td>\n",
              "      <td>-0.264330</td>\n",
              "      <td>-0.345825</td>\n",
              "      <td>-0.310781</td>\n",
              "      <td>-0.334160</td>\n",
              "      <td>-0.306178</td>\n",
              "      <td>-0.174563</td>\n",
              "      <td>...</td>\n",
              "      <td>1.808428</td>\n",
              "      <td>2.164346</td>\n",
              "      <td>2.070747</td>\n",
              "      <td>1.903614</td>\n",
              "      <td>1.764455</td>\n",
              "      <td>1.507769</td>\n",
              "      <td>1.293428</td>\n",
              "      <td>0.894562</td>\n",
              "      <td>0.578016</td>\n",
              "      <td>0.244343</td>\n",
              "      <td>-0.286443</td>\n",
              "      <td>-0.515881</td>\n",
              "      <td>-0.732707</td>\n",
              "      <td>-0.832465</td>\n",
              "      <td>-0.803318</td>\n",
              "      <td>-0.836252</td>\n",
              "      <td>-0.777865</td>\n",
              "      <td>-0.774753</td>\n",
              "      <td>-0.733404</td>\n",
              "      <td>-0.721386</td>\n",
              "      <td>-0.832095</td>\n",
              "      <td>-0.711982</td>\n",
              "      <td>-0.751867</td>\n",
              "      <td>-0.757720</td>\n",
              "      <td>-0.853120</td>\n",
              "      <td>-0.766988</td>\n",
              "      <td>-0.688161</td>\n",
              "      <td>-0.519923</td>\n",
              "      <td>0.039406</td>\n",
              "      <td>0.560327</td>\n",
              "      <td>0.538356</td>\n",
              "      <td>0.656881</td>\n",
              "      <td>0.787490</td>\n",
              "      <td>0.724046</td>\n",
              "      <td>0.555784</td>\n",
              "      <td>0.476333</td>\n",
              "      <td>0.773820</td>\n",
              "      <td>1.119621</td>\n",
              "      <td>-1.436250</td>\n",
              "      <td>1.0</td>\n",
              "    </tr>\n",
              "    <tr>\n",
              "      <th>2</th>\n",
              "      <td>-0.567088</td>\n",
              "      <td>-2.593450</td>\n",
              "      <td>-3.874230</td>\n",
              "      <td>-4.584095</td>\n",
              "      <td>-4.187449</td>\n",
              "      <td>-3.151462</td>\n",
              "      <td>-1.742940</td>\n",
              "      <td>-1.490658</td>\n",
              "      <td>-1.183580</td>\n",
              "      <td>-0.394229</td>\n",
              "      <td>-0.282897</td>\n",
              "      <td>-0.356926</td>\n",
              "      <td>-0.287297</td>\n",
              "      <td>-0.399489</td>\n",
              "      <td>-0.473244</td>\n",
              "      <td>-0.379048</td>\n",
              "      <td>-0.399039</td>\n",
              "      <td>-0.178594</td>\n",
              "      <td>-0.339522</td>\n",
              "      <td>-0.498447</td>\n",
              "      <td>-0.337251</td>\n",
              "      <td>-0.425480</td>\n",
              "      <td>-0.423952</td>\n",
              "      <td>-0.463170</td>\n",
              "      <td>-0.493253</td>\n",
              "      <td>-0.549749</td>\n",
              "      <td>-0.529831</td>\n",
              "      <td>-0.530935</td>\n",
              "      <td>-0.502365</td>\n",
              "      <td>-0.417368</td>\n",
              "      <td>-0.526346</td>\n",
              "      <td>-0.471005</td>\n",
              "      <td>-0.676784</td>\n",
              "      <td>-0.898612</td>\n",
              "      <td>-0.610571</td>\n",
              "      <td>-0.530164</td>\n",
              "      <td>-0.765674</td>\n",
              "      <td>-0.581937</td>\n",
              "      <td>-0.537848</td>\n",
              "      <td>-0.556386</td>\n",
              "      <td>...</td>\n",
              "      <td>1.810988</td>\n",
              "      <td>2.185398</td>\n",
              "      <td>2.262985</td>\n",
              "      <td>2.052920</td>\n",
              "      <td>1.890488</td>\n",
              "      <td>1.793033</td>\n",
              "      <td>1.564784</td>\n",
              "      <td>1.234619</td>\n",
              "      <td>0.900302</td>\n",
              "      <td>0.551957</td>\n",
              "      <td>0.258222</td>\n",
              "      <td>-0.128587</td>\n",
              "      <td>-0.092585</td>\n",
              "      <td>-0.168606</td>\n",
              "      <td>-0.495989</td>\n",
              "      <td>-0.395034</td>\n",
              "      <td>-0.328238</td>\n",
              "      <td>-0.448138</td>\n",
              "      <td>-0.268230</td>\n",
              "      <td>-0.456415</td>\n",
              "      <td>-0.357867</td>\n",
              "      <td>-0.317508</td>\n",
              "      <td>-0.434112</td>\n",
              "      <td>-0.549203</td>\n",
              "      <td>-0.324615</td>\n",
              "      <td>-0.268082</td>\n",
              "      <td>-0.220384</td>\n",
              "      <td>-0.117429</td>\n",
              "      <td>0.614059</td>\n",
              "      <td>1.284825</td>\n",
              "      <td>0.886073</td>\n",
              "      <td>0.531452</td>\n",
              "      <td>0.311377</td>\n",
              "      <td>-0.021919</td>\n",
              "      <td>-0.713683</td>\n",
              "      <td>-0.532197</td>\n",
              "      <td>0.321097</td>\n",
              "      <td>0.904227</td>\n",
              "      <td>-0.421797</td>\n",
              "      <td>1.0</td>\n",
              "    </tr>\n",
              "    <tr>\n",
              "      <th>3</th>\n",
              "      <td>0.490473</td>\n",
              "      <td>-1.914407</td>\n",
              "      <td>-3.616364</td>\n",
              "      <td>-4.318823</td>\n",
              "      <td>-4.268016</td>\n",
              "      <td>-3.881110</td>\n",
              "      <td>-2.993280</td>\n",
              "      <td>-1.671131</td>\n",
              "      <td>-1.333884</td>\n",
              "      <td>-0.965629</td>\n",
              "      <td>-0.183319</td>\n",
              "      <td>-0.101657</td>\n",
              "      <td>-0.273874</td>\n",
              "      <td>-0.127818</td>\n",
              "      <td>-0.195983</td>\n",
              "      <td>-0.213523</td>\n",
              "      <td>-0.176473</td>\n",
              "      <td>-0.156932</td>\n",
              "      <td>-0.149172</td>\n",
              "      <td>-0.181510</td>\n",
              "      <td>-0.180074</td>\n",
              "      <td>-0.246151</td>\n",
              "      <td>-0.274260</td>\n",
              "      <td>-0.140960</td>\n",
              "      <td>-0.277449</td>\n",
              "      <td>-0.382549</td>\n",
              "      <td>-0.311937</td>\n",
              "      <td>-0.360093</td>\n",
              "      <td>-0.405968</td>\n",
              "      <td>-0.571433</td>\n",
              "      <td>-0.524106</td>\n",
              "      <td>-0.537886</td>\n",
              "      <td>-0.606778</td>\n",
              "      <td>-0.661446</td>\n",
              "      <td>-0.683375</td>\n",
              "      <td>-0.746683</td>\n",
              "      <td>-0.635662</td>\n",
              "      <td>-0.625231</td>\n",
              "      <td>-0.540094</td>\n",
              "      <td>-0.674995</td>\n",
              "      <td>...</td>\n",
              "      <td>1.772155</td>\n",
              "      <td>2.000769</td>\n",
              "      <td>1.925003</td>\n",
              "      <td>1.898426</td>\n",
              "      <td>1.720953</td>\n",
              "      <td>1.501711</td>\n",
              "      <td>1.422492</td>\n",
              "      <td>1.023225</td>\n",
              "      <td>0.776341</td>\n",
              "      <td>0.504426</td>\n",
              "      <td>0.056382</td>\n",
              "      <td>-0.233161</td>\n",
              "      <td>-0.406388</td>\n",
              "      <td>-0.327528</td>\n",
              "      <td>-0.460868</td>\n",
              "      <td>-0.402536</td>\n",
              "      <td>-0.345752</td>\n",
              "      <td>-0.354206</td>\n",
              "      <td>-0.439959</td>\n",
              "      <td>-0.425326</td>\n",
              "      <td>-0.439789</td>\n",
              "      <td>-0.451835</td>\n",
              "      <td>-0.395926</td>\n",
              "      <td>-0.448762</td>\n",
              "      <td>-0.391789</td>\n",
              "      <td>-0.376307</td>\n",
              "      <td>-0.461069</td>\n",
              "      <td>-0.253524</td>\n",
              "      <td>0.213006</td>\n",
              "      <td>0.491173</td>\n",
              "      <td>0.350816</td>\n",
              "      <td>0.499111</td>\n",
              "      <td>0.600345</td>\n",
              "      <td>0.842069</td>\n",
              "      <td>0.952074</td>\n",
              "      <td>0.990133</td>\n",
              "      <td>1.086798</td>\n",
              "      <td>1.403011</td>\n",
              "      <td>-0.383564</td>\n",
              "      <td>1.0</td>\n",
              "    </tr>\n",
              "    <tr>\n",
              "      <th>4</th>\n",
              "      <td>0.800232</td>\n",
              "      <td>-0.874252</td>\n",
              "      <td>-2.384761</td>\n",
              "      <td>-3.973292</td>\n",
              "      <td>-4.338224</td>\n",
              "      <td>-3.802422</td>\n",
              "      <td>-2.534510</td>\n",
              "      <td>-1.783423</td>\n",
              "      <td>-1.594450</td>\n",
              "      <td>-0.753199</td>\n",
              "      <td>-0.298107</td>\n",
              "      <td>-0.428928</td>\n",
              "      <td>-0.491351</td>\n",
              "      <td>-0.361304</td>\n",
              "      <td>-0.339296</td>\n",
              "      <td>-0.324952</td>\n",
              "      <td>-0.290113</td>\n",
              "      <td>-0.363051</td>\n",
              "      <td>-0.525684</td>\n",
              "      <td>-0.597423</td>\n",
              "      <td>-0.575523</td>\n",
              "      <td>-0.567503</td>\n",
              "      <td>-0.504555</td>\n",
              "      <td>-0.618406</td>\n",
              "      <td>-0.682814</td>\n",
              "      <td>-0.743849</td>\n",
              "      <td>-0.815588</td>\n",
              "      <td>-0.826902</td>\n",
              "      <td>-0.782374</td>\n",
              "      <td>-0.929462</td>\n",
              "      <td>-0.999672</td>\n",
              "      <td>-1.060969</td>\n",
              "      <td>-1.007877</td>\n",
              "      <td>-1.028735</td>\n",
              "      <td>-1.122629</td>\n",
              "      <td>-1.028650</td>\n",
              "      <td>-1.046515</td>\n",
              "      <td>-1.063372</td>\n",
              "      <td>-1.122423</td>\n",
              "      <td>-0.983242</td>\n",
              "      <td>...</td>\n",
              "      <td>1.155363</td>\n",
              "      <td>1.336254</td>\n",
              "      <td>1.627534</td>\n",
              "      <td>1.717594</td>\n",
              "      <td>1.696487</td>\n",
              "      <td>1.741686</td>\n",
              "      <td>1.674078</td>\n",
              "      <td>1.546928</td>\n",
              "      <td>1.331738</td>\n",
              "      <td>1.110168</td>\n",
              "      <td>0.922210</td>\n",
              "      <td>0.521777</td>\n",
              "      <td>0.154852</td>\n",
              "      <td>-0.123861</td>\n",
              "      <td>-0.202998</td>\n",
              "      <td>-0.247956</td>\n",
              "      <td>-0.219122</td>\n",
              "      <td>-0.214695</td>\n",
              "      <td>-0.319215</td>\n",
              "      <td>-0.198597</td>\n",
              "      <td>-0.151618</td>\n",
              "      <td>-0.129593</td>\n",
              "      <td>-0.074939</td>\n",
              "      <td>-0.196807</td>\n",
              "      <td>-0.174795</td>\n",
              "      <td>-0.208833</td>\n",
              "      <td>-0.210754</td>\n",
              "      <td>-0.100485</td>\n",
              "      <td>0.197446</td>\n",
              "      <td>0.966606</td>\n",
              "      <td>1.148884</td>\n",
              "      <td>0.958434</td>\n",
              "      <td>1.059025</td>\n",
              "      <td>1.371682</td>\n",
              "      <td>1.277392</td>\n",
              "      <td>0.960304</td>\n",
              "      <td>0.971020</td>\n",
              "      <td>1.614392</td>\n",
              "      <td>1.421456</td>\n",
              "      <td>1.0</td>\n",
              "    </tr>\n",
              "  </tbody>\n",
              "</table>\n",
              "<p>5 rows × 141 columns</p>\n",
              "</div>\n",
              "      <button class=\"colab-df-convert\" onclick=\"convertToInteractive('df-cdaacf9f-1463-406f-810a-e0efc4efc96d')\"\n",
              "              title=\"Convert this dataframe to an interactive table.\"\n",
              "              style=\"display:none;\">\n",
              "        \n",
              "  <svg xmlns=\"http://www.w3.org/2000/svg\" height=\"24px\"viewBox=\"0 0 24 24\"\n",
              "       width=\"24px\">\n",
              "    <path d=\"M0 0h24v24H0V0z\" fill=\"none\"/>\n",
              "    <path d=\"M18.56 5.44l.94 2.06.94-2.06 2.06-.94-2.06-.94-.94-2.06-.94 2.06-2.06.94zm-11 1L8.5 8.5l.94-2.06 2.06-.94-2.06-.94L8.5 2.5l-.94 2.06-2.06.94zm10 10l.94 2.06.94-2.06 2.06-.94-2.06-.94-.94-2.06-.94 2.06-2.06.94z\"/><path d=\"M17.41 7.96l-1.37-1.37c-.4-.4-.92-.59-1.43-.59-.52 0-1.04.2-1.43.59L10.3 9.45l-7.72 7.72c-.78.78-.78 2.05 0 2.83L4 21.41c.39.39.9.59 1.41.59.51 0 1.02-.2 1.41-.59l7.78-7.78 2.81-2.81c.8-.78.8-2.07 0-2.86zM5.41 20L4 18.59l7.72-7.72 1.47 1.35L5.41 20z\"/>\n",
              "  </svg>\n",
              "      </button>\n",
              "      \n",
              "  <style>\n",
              "    .colab-df-container {\n",
              "      display:flex;\n",
              "      flex-wrap:wrap;\n",
              "      gap: 12px;\n",
              "    }\n",
              "\n",
              "    .colab-df-convert {\n",
              "      background-color: #E8F0FE;\n",
              "      border: none;\n",
              "      border-radius: 50%;\n",
              "      cursor: pointer;\n",
              "      display: none;\n",
              "      fill: #1967D2;\n",
              "      height: 32px;\n",
              "      padding: 0 0 0 0;\n",
              "      width: 32px;\n",
              "    }\n",
              "\n",
              "    .colab-df-convert:hover {\n",
              "      background-color: #E2EBFA;\n",
              "      box-shadow: 0px 1px 2px rgba(60, 64, 67, 0.3), 0px 1px 3px 1px rgba(60, 64, 67, 0.15);\n",
              "      fill: #174EA6;\n",
              "    }\n",
              "\n",
              "    [theme=dark] .colab-df-convert {\n",
              "      background-color: #3B4455;\n",
              "      fill: #D2E3FC;\n",
              "    }\n",
              "\n",
              "    [theme=dark] .colab-df-convert:hover {\n",
              "      background-color: #434B5C;\n",
              "      box-shadow: 0px 1px 3px 1px rgba(0, 0, 0, 0.15);\n",
              "      filter: drop-shadow(0px 1px 2px rgba(0, 0, 0, 0.3));\n",
              "      fill: #FFFFFF;\n",
              "    }\n",
              "  </style>\n",
              "\n",
              "      <script>\n",
              "        const buttonEl =\n",
              "          document.querySelector('#df-cdaacf9f-1463-406f-810a-e0efc4efc96d button.colab-df-convert');\n",
              "        buttonEl.style.display =\n",
              "          google.colab.kernel.accessAllowed ? 'block' : 'none';\n",
              "\n",
              "        async function convertToInteractive(key) {\n",
              "          const element = document.querySelector('#df-cdaacf9f-1463-406f-810a-e0efc4efc96d');\n",
              "          const dataTable =\n",
              "            await google.colab.kernel.invokeFunction('convertToInteractive',\n",
              "                                                     [key], {});\n",
              "          if (!dataTable) return;\n",
              "\n",
              "          const docLinkHtml = 'Like what you see? Visit the ' +\n",
              "            '<a target=\"_blank\" href=https://colab.research.google.com/notebooks/data_table.ipynb>data table notebook</a>'\n",
              "            + ' to learn more about interactive tables.';\n",
              "          element.innerHTML = '';\n",
              "          dataTable['output_type'] = 'display_data';\n",
              "          await google.colab.output.renderOutput(dataTable, element);\n",
              "          const docLink = document.createElement('div');\n",
              "          docLink.innerHTML = docLinkHtml;\n",
              "          element.appendChild(docLink);\n",
              "        }\n",
              "      </script>\n",
              "    </div>\n",
              "  </div>\n",
              "  "
            ],
            "text/plain": [
              "        0         1         2         3    ...       137       138       139  140\n",
              "0 -0.112522 -2.827204 -3.773897 -4.349751  ...  0.123431  0.925286  0.193137  1.0\n",
              "1 -1.100878 -3.996840 -4.285843 -4.506579  ...  0.773820  1.119621 -1.436250  1.0\n",
              "2 -0.567088 -2.593450 -3.874230 -4.584095  ...  0.321097  0.904227 -0.421797  1.0\n",
              "3  0.490473 -1.914407 -3.616364 -4.318823  ...  1.086798  1.403011 -0.383564  1.0\n",
              "4  0.800232 -0.874252 -2.384761 -3.973292  ...  0.971020  1.614392  1.421456  1.0\n",
              "\n",
              "[5 rows x 141 columns]"
            ]
          },
          "metadata": {},
          "execution_count": 72
        }
      ]
    },
    {
      "cell_type": "code",
      "metadata": {
        "colab": {
          "base_uri": "https://localhost:8080/"
        },
        "id": "_MaL2WQaUPPA",
        "outputId": "ce0856e6-c007-458d-edb6-9a645561e95b"
      },
      "source": [
        "labels = df_raw[:, -1]\n",
        "data = df_raw[:, :-1]\n",
        "\n",
        "print(labels.shape)\n",
        "print(data.shape)"
      ],
      "execution_count": 73,
      "outputs": [
        {
          "output_type": "stream",
          "name": "stdout",
          "text": [
            "(4998,)\n",
            "(4998, 140)\n"
          ]
        }
      ]
    },
    {
      "cell_type": "code",
      "metadata": {
        "id": "ulgUoiv4VKm9",
        "colab": {
          "base_uri": "https://localhost:8080/"
        },
        "outputId": "9f14b6eb-a0a5-4b37-bd20-398a799606a4"
      },
      "source": [
        "x_train, x_test, y_train, y_test = train_test_split(data, labels, test_size=0.2, random_state=10)\n",
        "\n",
        "print(x_train.shape)\n",
        "print(y_train.shape)\n",
        "print(x_test.shape)\n",
        "print(y_test.shape)"
      ],
      "execution_count": 74,
      "outputs": [
        {
          "output_type": "stream",
          "name": "stdout",
          "text": [
            "(3998, 140)\n",
            "(3998,)\n",
            "(1000, 140)\n",
            "(1000,)\n"
          ]
        }
      ]
    },
    {
      "cell_type": "code",
      "metadata": {
        "id": "4rL4ofJMJuhm"
      },
      "source": [
        "scaler = MinMaxScaler()\n",
        "scaler.fit(x_train)\n",
        "scaler.fit(x_test)\n",
        "x_train = scaler.transform(x_train)\n",
        "x_test = scaler.transform(x_test)"
      ],
      "execution_count": 75,
      "outputs": []
    },
    {
      "cell_type": "code",
      "metadata": {
        "colab": {
          "base_uri": "https://localhost:8080/"
        },
        "id": "GG-2q1fGY7PT",
        "outputId": "60e3cbf9-fae8-4dc8-fbd5-59f01dd25aca"
      },
      "source": [
        "x_train[0][:10]"
      ],
      "execution_count": 76,
      "outputs": [
        {
          "output_type": "execute_result",
          "data": {
            "text/plain": [
              "array([0.8026665 , 0.7483631 , 0.52808921, 0.38542811, 0.18129497,\n",
              "       0.11578003, 0.16163981, 0.31565831, 0.27183197, 0.3708654 ])"
            ]
          },
          "metadata": {},
          "execution_count": 76
        }
      ]
    },
    {
      "cell_type": "code",
      "metadata": {
        "colab": {
          "base_uri": "https://localhost:8080/"
        },
        "id": "Z6L3QUvjZS2Q",
        "outputId": "5cd20af3-e0ed-432e-b565-e07f7a4293a0"
      },
      "source": [
        "x_test[0][:10]"
      ],
      "execution_count": 77,
      "outputs": [
        {
          "output_type": "execute_result",
          "data": {
            "text/plain": [
              "array([0.39731649, 0.196874  , 0.07684229, 0.12931236, 0.23049202,\n",
              "       0.3802482 , 0.40782177, 0.38753806, 0.47966165, 0.51812989])"
            ]
          },
          "metadata": {},
          "execution_count": 77
        }
      ]
    },
    {
      "cell_type": "code",
      "metadata": {
        "id": "bPeNvjckaMEK"
      },
      "source": [
        "x_train = tf.cast(x_train, tf.float64)\n",
        "x_test = tf.cast(x_test, tf.float64)"
      ],
      "execution_count": 78,
      "outputs": []
    },
    {
      "cell_type": "code",
      "metadata": {
        "id": "IIWqYeAvag-0",
        "colab": {
          "base_uri": "https://localhost:8080/"
        },
        "outputId": "bd2246dc-ae79-4fb7-d51b-7a54e4e7bd07"
      },
      "source": [
        "y_train = y_train.astype(bool)\n",
        "y_test = y_test.astype(bool)\n",
        "print(y_train[:10])\n",
        "print(y_test[:10])"
      ],
      "execution_count": 79,
      "outputs": [
        {
          "output_type": "stream",
          "name": "stdout",
          "text": [
            "[ True False  True  True  True  True False  True  True  True]\n",
            "[ True False  True  True  True  True  True False  True False]\n"
          ]
        }
      ]
    },
    {
      "cell_type": "code",
      "metadata": {
        "id": "czkjuDjTboWq"
      },
      "source": [
        "x_train_norm = x_train[y_train]\n",
        "x_test_norm = x_test[y_test]\n",
        "\n",
        "x_train_anom = x_train[~y_train]\n",
        "x_test_anom = x_test[~y_test]"
      ],
      "execution_count": 80,
      "outputs": []
    },
    {
      "cell_type": "code",
      "metadata": {
        "colab": {
          "base_uri": "https://localhost:8080/"
        },
        "id": "nsRjx2o9bp8u",
        "outputId": "9c53cbfa-e960-4758-cba2-cd36aa0e6ba3"
      },
      "source": [
        "print(x_train_norm.shape)\n",
        "print(x_train_anom.shape)"
      ],
      "execution_count": 81,
      "outputs": [
        {
          "output_type": "stream",
          "name": "stdout",
          "text": [
            "(2346, 140)\n",
            "(1652, 140)\n"
          ]
        }
      ]
    },
    {
      "cell_type": "code",
      "metadata": {
        "colab": {
          "base_uri": "https://localhost:8080/",
          "height": 441
        },
        "id": "6xsxZvqcN-QL",
        "outputId": "4cd177e3-90f9-4314-8b52-22de7f65da2b"
      },
      "source": [
        "fig, (ax1, ax2) = plt.subplots(2, 1)\n",
        "ax1.plot(np.arange(x_train_norm.shape[1]), x_train_norm[0])\n",
        "ax1.set_title('Normal ECG')\n",
        "ax2.plot(np.arange(x_train_anom.shape[1]), x_train_anom[0])\n",
        "ax2.set_title('Anomalous ECG')\n",
        "plt.tight_layout()\n",
        "plt.show()"
      ],
      "execution_count": 82,
      "outputs": [
        {
          "output_type": "display_data",
          "data": {
            "image/png": "[encoded data removed]",
            "text/plain": [
              "<Figure size 720x432 with 2 Axes>"
            ]
          },
          "metadata": {
            "needs_background": "light"
          }
        }
      ]
    },
    {
      "cell_type": "code",
      "metadata": {
        "id": "nSdjnbnFQjs9",
        "colab": {
          "base_uri": "https://localhost:8080/"
        },
        "outputId": "b8d6678a-8fce-4882-d419-377bd67093f3"
      },
      "source": [
        "data_input = layers.Input(shape=[None, 140])\n",
        "x = layers.Dense(64, activation='relu')(data_input)\n",
        "x = layers.Dense(32, activation='relu')(x)\n",
        "x = layers.Dense(16, activation='relu')(x)\n",
        "encoder = layers.Dense(8, activation='relu')(x)\n",
        "\n",
        "x = layers.Dense(16, activation='relu')(encoder)\n",
        "x = layers.Dense(32, activation='relu')(x)\n",
        "x = layers.Dense(64, activation='relu')(x)\n",
        "decoder = layers.Dense(140, activation='sigmoid')(x)\n",
        "\n",
        "autoencoder = keras.Model(data_input, decoder)\n",
        "autoencoder.summary()"
      ],
      "execution_count": 83,
      "outputs": [
        {
          "output_type": "stream",
          "name": "stdout",
          "text": [
            "Model: \"model_9\"\n",
            "_________________________________________________________________\n",
            " Layer (type)                Output Shape              Param #   \n",
            "=================================================================\n",
            " input_4 (InputLayer)        [(None, None, 140)]       0         \n",
            "                                                                 \n",
            " dense_24 (Dense)            (None, None, 64)          9024      \n",
            "                                                                 \n",
            " dense_25 (Dense)            (None, None, 32)          2080      \n",
            "                                                                 \n",
            " dense_26 (Dense)            (None, None, 16)          528       \n",
            "                                                                 \n",
            " dense_27 (Dense)            (None, None, 8)           136       \n",
            "                                                                 \n",
            " dense_28 (Dense)            (None, None, 16)          144       \n",
            "                                                                 \n",
            " dense_29 (Dense)            (None, None, 32)          544       \n",
            "                                                                 \n",
            " dense_30 (Dense)            (None, None, 64)          2112      \n",
            "                                                                 \n",
            " dense_31 (Dense)            (None, None, 140)         9100      \n",
            "                                                                 \n",
            "=================================================================\n",
            "Total params: 23,668\n",
            "Trainable params: 23,668\n",
            "Non-trainable params: 0\n",
            "_________________________________________________________________\n"
          ]
        }
      ]
    },
    {
      "cell_type": "code",
      "metadata": {
        "colab": {
          "base_uri": "https://localhost:8080/"
        },
        "id": "crT9WuuoYoiV",
        "outputId": "aecbb594-d20e-4a9c-ad68-92c194abf029"
      },
      "source": [
        "epochs = 100\n",
        "batch_size = 64\n",
        "\n",
        "autoencoder.compile(optimizer=Adam(lr=1e-3), loss='mae')\n",
        "\n",
        "history = autoencoder.fit(x_train_norm, \n",
        "                          x_train_norm, \n",
        "                          epochs=epochs, \n",
        "                          batch_size=batch_size,\n",
        "                          validation_data=(x_test, x_test),\n",
        "                          shuffle=True)"
      ],
      "execution_count": 84,
      "outputs": [
        {
          "output_type": "stream",
          "name": "stdout",
          "text": [
            "Epoch 1/100\n",
            "WARNING:tensorflow:Model was constructed with shape (None, None, 140) for input KerasTensor(type_spec=TensorSpec(shape=(None, None, 140), dtype=tf.float32, name='input_4'), name='input_4', description=\"created by layer 'input_4'\"), but it was called on an input with incompatible shape (None, 140).\n"
          ]
        },
        {
          "output_type": "stream",
          "name": "stderr",
          "text": [
            "/usr/local/lib/python3.7/dist-packages/keras/optimizer_v2/adam.py:105: UserWarning: The `lr` argument is deprecated, use `learning_rate` instead.\n",
            "  super(Adam, self).__init__(name, **kwargs)\n"
          ]
        },
        {
          "output_type": "stream",
          "name": "stdout",
          "text": [
            "WARNING:tensorflow:Model was constructed with shape (None, None, 140) for input KerasTensor(type_spec=TensorSpec(shape=(None, None, 140), dtype=tf.float32, name='input_4'), name='input_4', description=\"created by layer 'input_4'\"), but it was called on an input with incompatible shape (None, 140).\n",
            "35/37 [===========================>..] - ETA: 0s - loss: 0.1319WARNING:tensorflow:Model was constructed with shape (None, None, 140) for input KerasTensor(type_spec=TensorSpec(shape=(None, None, 140), dtype=tf.float32, name='input_4'), name='input_4', description=\"created by layer 'input_4'\"), but it was called on an input with incompatible shape (None, 140).\n",
            "37/37 [==============================] - 1s 9ms/step - loss: 0.1295 - val_loss: 0.1120\n",
            "Epoch 2/100\n",
            "37/37 [==============================] - 0s 4ms/step - loss: 0.0680 - val_loss: 0.0979\n",
            "Epoch 3/100\n",
            "37/37 [==============================] - 0s 4ms/step - loss: 0.0607 - val_loss: 0.0909\n",
            "Epoch 4/100\n",
            "37/37 [==============================] - 0s 4ms/step - loss: 0.0535 - val_loss: 0.0829\n",
            "Epoch 5/100\n",
            "37/37 [==============================] - 0s 5ms/step - loss: 0.0494 - val_loss: 0.0818\n",
            "Epoch 6/100\n",
            "37/37 [==============================] - 0s 5ms/step - loss: 0.0471 - val_loss: 0.0794\n",
            "Epoch 7/100\n",
            "37/37 [==============================] - 0s 5ms/step - loss: 0.0433 - val_loss: 0.0766\n",
            "Epoch 8/100\n",
            "37/37 [==============================] - 0s 5ms/step - loss: 0.0403 - val_loss: 0.0751\n",
            "Epoch 9/100\n",
            "37/37 [==============================] - 0s 4ms/step - loss: 0.0391 - val_loss: 0.0745\n",
            "Epoch 10/100\n",
            "37/37 [==============================] - 0s 5ms/step - loss: 0.0386 - val_loss: 0.0740\n",
            "Epoch 11/100\n",
            "37/37 [==============================] - 0s 5ms/step - loss: 0.0382 - val_loss: 0.0734\n",
            "Epoch 12/100\n",
            "37/37 [==============================] - 0s 4ms/step - loss: 0.0377 - val_loss: 0.0719\n",
            "Epoch 13/100\n",
            "37/37 [==============================] - 0s 5ms/step - loss: 0.0372 - val_loss: 0.0713\n",
            "Epoch 14/100\n",
            "37/37 [==============================] - 0s 4ms/step - loss: 0.0369 - val_loss: 0.0706\n",
            "Epoch 15/100\n",
            "37/37 [==============================] - 0s 5ms/step - loss: 0.0365 - val_loss: 0.0708\n",
            "Epoch 16/100\n",
            "37/37 [==============================] - 0s 5ms/step - loss: 0.0361 - val_loss: 0.0697\n",
            "Epoch 17/100\n",
            "37/37 [==============================] - 0s 5ms/step - loss: 0.0359 - val_loss: 0.0689\n",
            "Epoch 18/100\n",
            "37/37 [==============================] - 0s 5ms/step - loss: 0.0357 - val_loss: 0.0696\n",
            "Epoch 19/100\n",
            "37/37 [==============================] - 0s 5ms/step - loss: 0.0356 - val_loss: 0.0694\n",
            "Epoch 20/100\n",
            "37/37 [==============================] - 0s 5ms/step - loss: 0.0356 - val_loss: 0.0687\n",
            "Epoch 21/100\n",
            "37/37 [==============================] - 0s 5ms/step - loss: 0.0352 - val_loss: 0.0683\n",
            "Epoch 22/100\n",
            "37/37 [==============================] - 0s 4ms/step - loss: 0.0351 - val_loss: 0.0693\n",
            "Epoch 23/100\n",
            "37/37 [==============================] - 0s 5ms/step - loss: 0.0351 - val_loss: 0.0684\n",
            "Epoch 24/100\n",
            "37/37 [==============================] - 0s 4ms/step - loss: 0.0350 - val_loss: 0.0687\n",
            "Epoch 25/100\n",
            "37/37 [==============================] - 0s 4ms/step - loss: 0.0349 - val_loss: 0.0683\n",
            "Epoch 26/100\n",
            "37/37 [==============================] - 0s 4ms/step - loss: 0.0348 - val_loss: 0.0684\n",
            "Epoch 27/100\n",
            "37/37 [==============================] - 0s 4ms/step - loss: 0.0347 - val_loss: 0.0681\n",
            "Epoch 28/100\n",
            "37/37 [==============================] - 0s 5ms/step - loss: 0.0346 - val_loss: 0.0680\n",
            "Epoch 29/100\n",
            "37/37 [==============================] - 0s 4ms/step - loss: 0.0346 - val_loss: 0.0677\n",
            "Epoch 30/100\n",
            "37/37 [==============================] - 0s 5ms/step - loss: 0.0345 - val_loss: 0.0674\n",
            "Epoch 31/100\n",
            "37/37 [==============================] - 0s 5ms/step - loss: 0.0344 - val_loss: 0.0675\n",
            "Epoch 32/100\n",
            "37/37 [==============================] - 0s 4ms/step - loss: 0.0344 - val_loss: 0.0667\n",
            "Epoch 33/100\n",
            "37/37 [==============================] - 0s 4ms/step - loss: 0.0343 - val_loss: 0.0670\n",
            "Epoch 34/100\n",
            "37/37 [==============================] - 0s 4ms/step - loss: 0.0341 - val_loss: 0.0664\n",
            "Epoch 35/100\n",
            "37/37 [==============================] - 0s 4ms/step - loss: 0.0341 - val_loss: 0.0664\n",
            "Epoch 36/100\n",
            "37/37 [==============================] - 0s 5ms/step - loss: 0.0340 - val_loss: 0.0662\n",
            "Epoch 37/100\n",
            "37/37 [==============================] - 0s 5ms/step - loss: 0.0339 - val_loss: 0.0660\n",
            "Epoch 38/100\n",
            "37/37 [==============================] - 0s 4ms/step - loss: 0.0339 - val_loss: 0.0653\n",
            "Epoch 39/100\n",
            "37/37 [==============================] - 0s 4ms/step - loss: 0.0338 - val_loss: 0.0648\n",
            "Epoch 40/100\n",
            "37/37 [==============================] - 0s 5ms/step - loss: 0.0337 - val_loss: 0.0652\n",
            "Epoch 41/100\n",
            "37/37 [==============================] - 0s 5ms/step - loss: 0.0338 - val_loss: 0.0647\n",
            "Epoch 42/100\n",
            "37/37 [==============================] - 0s 4ms/step - loss: 0.0336 - val_loss: 0.0650\n",
            "Epoch 43/100\n",
            "37/37 [==============================] - 0s 4ms/step - loss: 0.0338 - val_loss: 0.0651\n",
            "Epoch 44/100\n",
            "37/37 [==============================] - 0s 4ms/step - loss: 0.0335 - val_loss: 0.0642\n",
            "Epoch 45/100\n",
            "37/37 [==============================] - 0s 5ms/step - loss: 0.0335 - val_loss: 0.0643\n",
            "Epoch 46/100\n",
            "37/37 [==============================] - 0s 5ms/step - loss: 0.0334 - val_loss: 0.0645\n",
            "Epoch 47/100\n",
            "37/37 [==============================] - 0s 5ms/step - loss: 0.0333 - val_loss: 0.0646\n",
            "Epoch 48/100\n",
            "37/37 [==============================] - 0s 4ms/step - loss: 0.0332 - val_loss: 0.0645\n",
            "Epoch 49/100\n",
            "37/37 [==============================] - 0s 5ms/step - loss: 0.0331 - val_loss: 0.0649\n",
            "Epoch 50/100\n",
            "37/37 [==============================] - 0s 4ms/step - loss: 0.0333 - val_loss: 0.0643\n",
            "Epoch 51/100\n",
            "37/37 [==============================] - 0s 5ms/step - loss: 0.0332 - val_loss: 0.0650\n",
            "Epoch 52/100\n",
            "37/37 [==============================] - 0s 4ms/step - loss: 0.0330 - val_loss: 0.0651\n",
            "Epoch 53/100\n",
            "37/37 [==============================] - 0s 5ms/step - loss: 0.0329 - val_loss: 0.0645\n",
            "Epoch 54/100\n",
            "37/37 [==============================] - 0s 4ms/step - loss: 0.0329 - val_loss: 0.0644\n",
            "Epoch 55/100\n",
            "37/37 [==============================] - 0s 4ms/step - loss: 0.0330 - val_loss: 0.0651\n",
            "Epoch 56/100\n",
            "37/37 [==============================] - 0s 4ms/step - loss: 0.0329 - val_loss: 0.0641\n",
            "Epoch 57/100\n",
            "37/37 [==============================] - 0s 5ms/step - loss: 0.0329 - val_loss: 0.0643\n",
            "Epoch 58/100\n",
            "37/37 [==============================] - 0s 5ms/step - loss: 0.0326 - val_loss: 0.0642\n",
            "Epoch 59/100\n",
            "37/37 [==============================] - 0s 4ms/step - loss: 0.0327 - val_loss: 0.0650\n",
            "Epoch 60/100\n",
            "37/37 [==============================] - 0s 5ms/step - loss: 0.0325 - val_loss: 0.0637\n",
            "Epoch 61/100\n",
            "37/37 [==============================] - 0s 4ms/step - loss: 0.0325 - val_loss: 0.0663\n",
            "Epoch 62/100\n",
            "37/37 [==============================] - 0s 4ms/step - loss: 0.0325 - val_loss: 0.0644\n",
            "Epoch 63/100\n",
            "37/37 [==============================] - 0s 4ms/step - loss: 0.0324 - val_loss: 0.0654\n",
            "Epoch 64/100\n",
            "37/37 [==============================] - 0s 5ms/step - loss: 0.0323 - val_loss: 0.0643\n",
            "Epoch 65/100\n",
            "37/37 [==============================] - 0s 5ms/step - loss: 0.0324 - val_loss: 0.0652\n",
            "Epoch 66/100\n",
            "37/37 [==============================] - 0s 5ms/step - loss: 0.0323 - val_loss: 0.0645\n",
            "Epoch 67/100\n",
            "37/37 [==============================] - 0s 4ms/step - loss: 0.0323 - val_loss: 0.0640\n",
            "Epoch 68/100\n",
            "37/37 [==============================] - 0s 4ms/step - loss: 0.0322 - val_loss: 0.0642\n",
            "Epoch 69/100\n",
            "37/37 [==============================] - 0s 5ms/step - loss: 0.0322 - val_loss: 0.0650\n",
            "Epoch 70/100\n",
            "37/37 [==============================] - 0s 5ms/step - loss: 0.0322 - val_loss: 0.0636\n",
            "Epoch 71/100\n",
            "37/37 [==============================] - 0s 5ms/step - loss: 0.0321 - val_loss: 0.0632\n",
            "Epoch 72/100\n",
            "37/37 [==============================] - 0s 4ms/step - loss: 0.0320 - val_loss: 0.0639\n",
            "Epoch 73/100\n",
            "37/37 [==============================] - 0s 5ms/step - loss: 0.0320 - val_loss: 0.0649\n",
            "Epoch 74/100\n",
            "37/37 [==============================] - 0s 5ms/step - loss: 0.0319 - val_loss: 0.0639\n",
            "Epoch 75/100\n",
            "37/37 [==============================] - 0s 5ms/step - loss: 0.0320 - val_loss: 0.0643\n",
            "Epoch 76/100\n",
            "37/37 [==============================] - 0s 4ms/step - loss: 0.0320 - val_loss: 0.0631\n",
            "Epoch 77/100\n",
            "37/37 [==============================] - 0s 5ms/step - loss: 0.0318 - val_loss: 0.0631\n",
            "Epoch 78/100\n",
            "37/37 [==============================] - 0s 4ms/step - loss: 0.0319 - val_loss: 0.0637\n",
            "Epoch 79/100\n",
            "37/37 [==============================] - 0s 4ms/step - loss: 0.0318 - val_loss: 0.0634\n",
            "Epoch 80/100\n",
            "37/37 [==============================] - 0s 4ms/step - loss: 0.0318 - val_loss: 0.0649\n",
            "Epoch 81/100\n",
            "37/37 [==============================] - 0s 4ms/step - loss: 0.0317 - val_loss: 0.0640\n",
            "Epoch 82/100\n",
            "37/37 [==============================] - 0s 6ms/step - loss: 0.0317 - val_loss: 0.0637\n",
            "Epoch 83/100\n",
            "37/37 [==============================] - 0s 6ms/step - loss: 0.0316 - val_loss: 0.0641\n",
            "Epoch 84/100\n",
            "37/37 [==============================] - 0s 5ms/step - loss: 0.0316 - val_loss: 0.0637\n",
            "Epoch 85/100\n",
            "37/37 [==============================] - 0s 4ms/step - loss: 0.0316 - val_loss: 0.0644\n",
            "Epoch 86/100\n",
            "37/37 [==============================] - 0s 4ms/step - loss: 0.0315 - val_loss: 0.0636\n",
            "Epoch 87/100\n",
            "37/37 [==============================] - 0s 4ms/step - loss: 0.0314 - val_loss: 0.0636\n",
            "Epoch 88/100\n",
            "37/37 [==============================] - 0s 4ms/step - loss: 0.0316 - val_loss: 0.0641\n",
            "Epoch 89/100\n",
            "37/37 [==============================] - 0s 4ms/step - loss: 0.0316 - val_loss: 0.0648\n",
            "Epoch 90/100\n",
            "37/37 [==============================] - 0s 5ms/step - loss: 0.0317 - val_loss: 0.0636\n",
            "Epoch 91/100\n",
            "37/37 [==============================] - 0s 4ms/step - loss: 0.0315 - val_loss: 0.0642\n",
            "Epoch 92/100\n",
            "37/37 [==============================] - 0s 5ms/step - loss: 0.0314 - val_loss: 0.0641\n",
            "Epoch 93/100\n",
            "37/37 [==============================] - 0s 4ms/step - loss: 0.0314 - val_loss: 0.0652\n",
            "Epoch 94/100\n",
            "37/37 [==============================] - 0s 4ms/step - loss: 0.0313 - val_loss: 0.0637\n",
            "Epoch 95/100\n",
            "37/37 [==============================] - 0s 4ms/step - loss: 0.0314 - val_loss: 0.0644\n",
            "Epoch 96/100\n",
            "37/37 [==============================] - 0s 4ms/step - loss: 0.0314 - val_loss: 0.0642\n",
            "Epoch 97/100\n",
            "37/37 [==============================] - 0s 4ms/step - loss: 0.0314 - val_loss: 0.0644\n",
            "Epoch 98/100\n",
            "37/37 [==============================] - 0s 4ms/step - loss: 0.0312 - val_loss: 0.0646\n",
            "Epoch 99/100\n",
            "37/37 [==============================] - 0s 4ms/step - loss: 0.0312 - val_loss: 0.0644\n",
            "Epoch 100/100\n",
            "37/37 [==============================] - 0s 5ms/step - loss: 0.0312 - val_loss: 0.0642\n"
          ]
        }
      ]
    },
    {
      "cell_type": "code",
      "metadata": {
        "colab": {
          "base_uri": "https://localhost:8080/",
          "height": 388
        },
        "id": "RBZYdlGLaI3x",
        "outputId": "a9b48aa9-af6e-4bd8-c1b3-13be75f7888b"
      },
      "source": [
        "plt.plot(history.history['loss'], label='Training Loss')\n",
        "plt.plot(history.history['val_loss'], label='Validation Loss')\n",
        "plt.xlabel('Epochs')\n",
        "plt.ylabel('Loss')\n",
        "plt.legend()\n",
        "plt.show()"
      ],
      "execution_count": 85,
      "outputs": [
        {
          "output_type": "display_data",
          "data": {
            "image/png": "[encoded data removed]",
            "text/plain": [
              "<Figure size 720x432 with 1 Axes>"
            ]
          },
          "metadata": {
            "needs_background": "light"
          }
        }
      ]
    },
    {
      "cell_type": "code",
      "metadata": {
        "colab": {
          "base_uri": "https://localhost:8080/"
        },
        "id": "PpMMZsiMbNhP",
        "outputId": "93ed7d92-1e0a-43f2-d428-5a645de55c94"
      },
      "source": [
        "encoder = keras.Model(data_input, encoder)\n",
        "encoded_data = encoder.predict(x_train_norm)\n",
        "\n",
        "decoder = keras.Model(data_input, decoder)\n",
        "decoded_data = decoder.predict(x_train_norm)"
      ],
      "execution_count": 86,
      "outputs": [
        {
          "output_type": "stream",
          "name": "stdout",
          "text": [
            "WARNING:tensorflow:Model was constructed with shape (None, None, 140) for input KerasTensor(type_spec=TensorSpec(shape=(None, None, 140), dtype=tf.float32, name='input_4'), name='input_4', description=\"created by layer 'input_4'\"), but it was called on an input with incompatible shape (None, 140).\n",
            "WARNING:tensorflow:Model was constructed with shape (None, None, 140) for input KerasTensor(type_spec=TensorSpec(shape=(None, None, 140), dtype=tf.float32, name='input_4'), name='input_4', description=\"created by layer 'input_4'\"), but it was called on an input with incompatible shape (None, 140).\n"
          ]
        }
      ]
    },
    {
      "cell_type": "code",
      "metadata": {
        "colab": {
          "base_uri": "https://localhost:8080/",
          "height": 441
        },
        "id": "3hYXr8_pewb_",
        "outputId": "77fbf2ea-989e-4e95-f88a-3d0ac8b0882f"
      },
      "source": [
        "fig, (ax1, ax2) = plt.subplots(2, 1)\n",
        "\n",
        "ax1.plot(x_test_norm[0], c='firebrick', label='Input')\n",
        "ax1.plot(decoded_data[0], c='navy', label='Decoded')\n",
        "ax1.fill_between(np.arange(140), \n",
        "                 decoded_data[0], \n",
        "                 x_test_norm[0], \n",
        "                 color='lightgray',\n",
        "                 label='Error')\n",
        "ax1.set_title('Normal ECG Test')\n",
        "ax1.legend()\n",
        "\n",
        "ax2.plot(x_test_anom[0], c='firebrick', label='Input')\n",
        "ax2.plot(decoded_data[0], c='navy', label='Decoded')\n",
        "ax2.fill_between(np.arange(140), \n",
        "                 decoded_data[0], \n",
        "                 x_test_anom[0], \n",
        "                 color='lightgray',\n",
        "                 label='Error')\n",
        "ax2.set_title('Anomalous ECG Test')\n",
        "ax2.legend()\n",
        "plt.tight_layout()\n",
        "plt.show()"
      ],
      "execution_count": 87,
      "outputs": [
        {
          "output_type": "display_data",
          "data": {
            "image/png": "[encoded data removed]",
            "text/plain": [
              "<Figure size 720x432 with 2 Axes>"
            ]
          },
          "metadata": {
            "needs_background": "light"
          }
        }
      ]
    },
    {
      "cell_type": "code",
      "metadata": {
        "colab": {
          "base_uri": "https://localhost:8080/",
          "height": 404
        },
        "id": "S3s-FdFCRHCt",
        "outputId": "f9efc49f-fc62-4572-9bc3-15524a5dfe8f"
      },
      "source": [
        "decoded_data_norm = decoder.predict(x_train_norm)\n",
        "train_loss_norm = tf.keras.losses.mae(decoded_data_norm, x_train_norm)\n",
        "\n",
        "plt.hist(train_loss_norm, bins=50)\n",
        "plt.title('Normal Train Loss')\n",
        "plt.xlabel('Loss')\n",
        "plt.ylabel('Examples')\n",
        "plt.show()"
      ],
      "execution_count": 88,
      "outputs": [
        {
          "output_type": "display_data",
          "data": {
            "image/png": "[encoded data removed]",
            "text/plain": [
              "<Figure size 720x432 with 1 Axes>"
            ]
          },
          "metadata": {
            "needs_background": "light"
          }
        }
      ]
    },
    {
      "cell_type": "code",
      "metadata": {
        "id": "KFXLHHLYgyA5",
        "colab": {
          "base_uri": "https://localhost:8080/",
          "height": 404
        },
        "outputId": "d68412b6-c741-4506-a80a-547d17cadfd3"
      },
      "source": [
        "decoded_data_anom = decoder.predict(x_test_anom)\n",
        "test_loss_anom = tf.keras.losses.mae(decoded_data_anom, x_test_anom)\n",
        "\n",
        "plt.hist(test_loss_anom, bins=50)\n",
        "plt.title('Anomalous Test Loss')\n",
        "plt.xlabel('Loss')\n",
        "plt.ylabel('Examples')\n",
        "plt.show()"
      ],
      "execution_count": 89,
      "outputs": [
        {
          "output_type": "display_data",
          "data": {
            "image/png": "[encoded data removed]",
            "text/plain": [
              "<Figure size 720x432 with 1 Axes>"
            ]
          },
          "metadata": {
            "needs_background": "light"
          }
        }
      ]
    },
    {
      "cell_type": "code",
      "metadata": {
        "colab": {
          "base_uri": "https://localhost:8080/"
        },
        "id": "jKtKTz3EQ3X-",
        "outputId": "9ffbec61-1a2a-49d2-9b67-072243ae77ff"
      },
      "source": [
        "threshold = np.mean(train_loss_norm) + np.std(train_loss_norm)\n",
        "print(f'Threshold: {threshold}')"
      ],
      "execution_count": 90,
      "outputs": [
        {
          "output_type": "stream",
          "name": "stdout",
          "text": [
            "Threshold: 0.04681539130377009\n"
          ]
        }
      ]
    },
    {
      "cell_type": "code",
      "metadata": {
        "id": "JPIbCVoTlGeM"
      },
      "source": [
        "def anomaly_detection(data, threshold):\n",
        "  decoded_data = decoder.predict(data)\n",
        "  loss = tf.keras.losses.mae(decoded_data, data)\n",
        "  return tf.math.less(loss, threshold)\n",
        "\n",
        "def print_stats(predictions, labels):\n",
        "  accuracy = accuracy_score(labels, predictions)\n",
        "  precision = precision_score(labels, predictions)\n",
        "  recall = recall_score(labels, predictions)\n",
        "  print(f'Accuracy = {round(accuracy, 4)}')\n",
        "  print(f'Precision = {round(precision, 4)}')\n",
        "  print(f'Recall = {round(recall, 4)}')"
      ],
      "execution_count": 91,
      "outputs": []
    },
    {
      "cell_type": "code",
      "metadata": {
        "id": "gL3inid5WCT_",
        "colab": {
          "base_uri": "https://localhost:8080/"
        },
        "outputId": "a6b057f1-e660-4c60-c133-31a364f01e53"
      },
      "source": [
        "predictions = anomaly_detection(x_test, threshold)\n",
        "print_stats(predictions, y_test)"
      ],
      "execution_count": 92,
      "outputs": [
        {
          "output_type": "stream",
          "name": "stdout",
          "text": [
            "Accuracy = 0.924\n",
            "Precision = 0.998\n",
            "Recall = 0.8691\n"
          ]
        }
      ]
    }
  ]
}